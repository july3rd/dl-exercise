{
 "cells": [
  {
   "cell_type": "markdown",
   "metadata": {},
   "source": [
    "# 数据预处理"
   ]
  },
  {
   "cell_type": "markdown",
   "metadata": {},
   "source": [
    "## 加载数据"
   ]
  },
  {
   "cell_type": "code",
   "execution_count": 1,
   "metadata": {},
   "outputs": [],
   "source": [
    "from lr_utils import load_dataset\n",
    "train_set_x_orig,train_set_y_orig,test_set_x_orig,test_set_y_orig,classes = load_dataset()"
   ]
  },
  {
   "cell_type": "markdown",
   "metadata": {},
   "source": [
    "## 查看数据"
   ]
  },
  {
   "cell_type": "markdown",
   "metadata": {},
   "source": [
    "### 查看一张图片"
   ]
  },
  {
   "cell_type": "code",
   "execution_count": 3,
   "metadata": {},
   "outputs": [
    {
     "name": "stdout",
     "output_type": "stream",
     "text": [
      "train_set_y_orig = 1\n"
     ]
    },
    {
     "data": {
      "image/png": "[encoded data removed]",
      "text/plain": [
       "<Figure size 432x288 with 1 Axes>"
      ]
     },
     "metadata": {
      "needs_background": "light"
     },
     "output_type": "display_data"
    }
   ],
   "source": [
    "import matplotlib.pyplot as plt\n",
    "index = 25\n",
    "plt.imshow(train_set_x_orig[index])\n",
    "print(\"train_set_y_orig = \"+ str(train_set_y_orig[0][index]))"
   ]
  },
  {
   "cell_type": "markdown",
   "metadata": {},
   "source": [
    "### 查看完整数据"
   ]
  },
  {
   "cell_type": "code",
   "execution_count": 4,
   "metadata": {},
   "outputs": [
    {
     "name": "stdout",
     "output_type": "stream",
     "text": [
      "训练集的数量：m_train = 209\n",
      "测试集的数量：m_test = 50\n",
      "每张图片的宽/高：num_px = 64\n",
      "每张图片的大小：(64,64,3)\n"
     ]
    }
   ],
   "source": [
    "m_train = train_set_y_orig.shape[1] # 训练集中图片的数量\n",
    "m_test = test_set_y_orig.shape[1] # 测试集中图片的数量\n",
    "num_px = train_set_x_orig.shape[1] # 图片的宽度和高度\n",
    "\n",
    "print(\"训练集的数量：m_train = \"+ str(m_train))\n",
    "print(\"测试集的数量：m_test = \"+str(m_test))\n",
    "print(\"每张图片的宽/高：num_px = \"+str(num_px))\n",
    "print(\"每张图片的大小：(\"+str(num_px)+\",\"+str(num_px)+\",3)\") # 一个像素点由GRB三原色组成"
   ]
  },
  {
   "cell_type": "markdown",
   "metadata": {},
   "source": [
    "## 数据降维"
   ]
  },
  {
   "cell_type": "markdown",
   "metadata": {},
   "source": [
    "由于原始数据维数过大不好处理，因此要对数据进行降维处理，例如训练集的维度为（209，64，64，3），它表示了209张图片，宽高均为64px，每个像素点采用rgb表示。要将其处理成（64 * 64 * 3,209)的形式。"
   ]
  },
  {
   "cell_type": "code",
   "execution_count": 5,
   "metadata": {},
   "outputs": [],
   "source": [
    "# 将训练集进行降维并转置\n",
    "train_set_x_flatten = train_set_x_orig.reshape(train_set_x_orig.shape[0],-1).T\n",
    "\n",
    "# 将测试集进行降维并转置\n",
    "test_set_x_flatten = test_set_x_orig.reshape(test_set_x_orig.shape[0],-1).T"
   ]
  },
  {
   "cell_type": "code",
   "execution_count": 6,
   "metadata": {},
   "outputs": [
    {
     "name": "stdout",
     "output_type": "stream",
     "text": [
      "训练集降维后的维度：(12288, 209)\n",
      "训练集标签的维度：(1, 209)\n",
      "测试集降维后的维度：(12288, 50)\n",
      "测试集标签的维度：(1, 50)\n"
     ]
    }
   ],
   "source": [
    "print(\"训练集降维后的维度：\"+ str(train_set_x_flatten.shape))\n",
    "print(\"训练集标签的维度：\"+ str(train_set_y_orig.shape))\n",
    "print(\"测试集降维后的维度：\" + str(test_set_x_flatten.shape))\n",
    "print(\"测试集标签的维度：\" + str(test_set_y_orig.shape))"
   ]
  },
  {
   "cell_type": "markdown",
   "metadata": {},
   "source": [
    "## 数据归一化"
   ]
  },
  {
   "cell_type": "code",
   "execution_count": 7,
   "metadata": {},
   "outputs": [],
   "source": [
    "train_set_x = train_set_x_flatten / 255\n",
    "test_set_x = test_set_x_flatten / 255"
   ]
  },
  {
   "cell_type": "markdown",
   "metadata": {},
   "source": [
    "![图片标题](https://leanote.com/api/file/getImage?fileId=5d625872ab64413276002886)"
   ]
  },
  {
   "cell_type": "markdown",
   "metadata": {},
   "source": [
    "# 初始化模型"
   ]
  },
  {
   "cell_type": "markdown",
   "metadata": {},
   "source": [
    "先来看一下正向传播的几个公式吧！\n",
    "$$\n",
    "\\begin{equation}\n",
    "z^{(i)} = w^T x^{(i)} + b \\tag{1}\n",
    "\\end{equation}\n",
    "$$\n",
    "$$\n",
    "\\begin{equation}\n",
    "\\hat{y}^{(i)} = a^{(i)} = sigmoid(z^{(i)})\\tag{2}\n",
    "\\end{equation}\n",
    "$$\n",
    "$$\n",
    "\\begin{equation}\n",
    "\\mathcal{L}(a^{(i)}, y^{(i)}) =  - y^{(i)}  \\log(a^{(i)}) - (1-y^{(i)} )  \\log(1-a^{(i)})\\tag{3}\n",
    "\\end{equation}\n",
    "$$"
   ]
  },
  {
   "cell_type": "markdown",
   "metadata": {},
   "source": [
    "## 初始化参数"
   ]
  },
  {
   "cell_type": "code",
   "execution_count": 10,
   "metadata": {},
   "outputs": [
    {
     "name": "stdout",
     "output_type": "stream",
     "text": [
      "w：[[0. 0. 0. 0.]]\n",
      "b：0\n"
     ]
    }
   ],
   "source": [
    "import numpy as np\n",
    "def ini_param_with_zeros(dim):\n",
    "    \"\"\"\n",
    "    将w初始化为维度为（dim，1）的0向量，将b初始化为set\n",
    "    \n",
    "    参数：\n",
    "        dim - callable始化w的维度\n",
    "        \n",
    "    返回：\n",
    "        w - 维度为（dim，1）的向量\n",
    "        b - 初始化偏差0\n",
    "    \"\"\"\n",
    "    w = np.zeros((dim,1))\n",
    "    b = 0\n",
    "    \n",
    "    # 使用断言确保建立的是矩阵而不是数组\n",
    "    assert(w.shape == (dim,1))\n",
    "    assert(isinstance(b,float) or isinstance(b,int))\n",
    "    \n",
    "    return (w,b)\n",
    "\n",
    "# print(\"w：\"+str(ini_param_with_zeros(4)[0].T))\n",
    "# print(\"b：\"+str(ini_param_with_zeros(4)[1]))"
   ]
  },
  {
   "cell_type": "markdown",
   "metadata": {},
   "source": [
    "## sigmoid函数"
   ]
  },
  {
   "cell_type": "code",
   "execution_count": 11,
   "metadata": {},
   "outputs": [
    {
     "name": "stdout",
     "output_type": "stream",
     "text": [
      "0.5\n"
     ]
    }
   ],
   "source": [
    "import numpy as np\n",
    "def sigmoid(z):\n",
    "    return 1 / (1 + np.exp(-z))\n",
    "# print(sigmoid(0))"
   ]
  },
  {
   "cell_type": "markdown",
   "metadata": {},
   "source": [
    "# 实现前向&后向传播"
   ]
  },
  {
   "cell_type": "markdown",
   "metadata": {},
   "source": [
    "初始化模型已经完成，现在就可以执行“前向”和“后向”传播步骤来学习参数了。现在要构建一个计算成本函数及其渐变的函数propagate()。"
   ]
  },
  {
   "cell_type": "code",
   "execution_count": 12,
   "metadata": {
    "code_folding": []
   },
   "outputs": [
    {
     "name": "stdout",
     "output_type": "stream",
     "text": [
      "======================测试propagate=========================\n",
      "dw = [[0.99993216]\n",
      " [1.99980262]]\n",
      "db = 0.49993523062470574\n",
      "cost = 6.000064773192205\n"
     ]
    }
   ],
   "source": [
    "def propagate(w,b,X,Y):\n",
    "    \"\"\"\n",
    "    实现前向和后向传播的成本函数及其梯度\n",
    "    \n",
    "    参数：\n",
    "        w - 权重，维度为（64*64*3，1）的矩阵\n",
    "        b - 偏差，标量\n",
    "        X - 训练集，维度为（64*64*3，209）的矩阵\n",
    "        Y - 标签，维度为（1，209）的矩阵\n",
    "        \n",
    "    返回：\n",
    "        cost - 一轮迭代的代价\n",
    "        dw - 权重的梯度\n",
    "        db - 偏差的梯度 \n",
    "    \"\"\"\n",
    "    \n",
    "    # 训练集数量\n",
    "    m = X.shape[1] \n",
    "    \n",
    "    # 正向传播\n",
    "    Z = np.dot(w.T,X) + b\n",
    "    A = sigmoid(Z)\n",
    "    cost = (-1 / m) * np.sum(Y * np.log(A) + (1-Y) * np.log(1 - A))\n",
    "    \n",
    "    # 反向传播\n",
    "    dZ = A - Y \n",
    "    dw = (1 / m) * np.dot(X,dZ.T)\n",
    "    db = (1 / m) * np.sum(dZ)\n",
    "    \n",
    "    # 使用断言确保数据是正确的\n",
    "    assert(dw.shape == w.shape)\n",
    "    assert(db.dtype == float)\n",
    "    cost = np.squeeze(cost)\n",
    "    assert(cost.shape == ())\n",
    "    \n",
    "    # 创建一个字典，把dw和db存储起来\n",
    "    grads = {\n",
    "        \"dw\": dw,\n",
    "        \"db\": db\n",
    "    }\n",
    "    return (grads,cost)\n",
    "\n",
    "# 测试propagate\n",
    "print(\"======================测试propagate=========================\")\n",
    "# 初始化参数\n",
    "w = np.array([[1],[2]])\n",
    "b = 2\n",
    "X = np.array([[1,2],[3,4]])\n",
    "Y = np.array([[1,0]])\n",
    "grads,cost = propagate(w,b,X,Y)\n",
    "print(\"dw = \"+str(grads[\"dw\"]))\n",
    "print(\"db = \"+str(grads[\"db\"]))\n",
    "print(\"cost = \"+str(cost))"
   ]
  },
  {
   "cell_type": "markdown",
   "metadata": {},
   "source": [
    "# 优化参数"
   ]
  },
  {
   "cell_type": "markdown",
   "metadata": {},
   "source": [
    "现在需要多次迭代运行前向&后向传播算法来优化参数w和b。"
   ]
  },
  {
   "cell_type": "code",
   "execution_count": 13,
   "metadata": {},
   "outputs": [
    {
     "name": "stdout",
     "output_type": "stream",
     "text": [
      "===============测试optmize==============\n",
      "w = [[0.1124579 ]\n",
      " [0.23106775]]\n",
      "b = 1.5593049248448891\n"
     ]
    }
   ],
   "source": [
    "def optimize(w,b,X,Y,num_iter,learning_rate,print_cost=False):\n",
    "    \"\"\"\n",
    "    多次迭代，找到全局最优的w和b\n",
    "    \n",
    "    参数：\n",
    "        w - 权重\n",
    "        b - 偏差\n",
    "        X - 训练集\n",
    "        Y - 标签\n",
    "        num_iter - 迭代次数\n",
    "        learning_rate - 学习率\n",
    "        print_cost - 每迭代100次打印一次损失值\n",
    "        \n",
    "    返回：\n",
    "        params - \n",
    "        grads -\n",
    "        \n",
    "    \"\"\"\n",
    "    costs = []\n",
    "    \n",
    "    for i in range(num_iter):\n",
    "        \n",
    "        grads,cost = propagate(w,b,X,Y)\n",
    "        \n",
    "        dw = grads[\"dw\"]\n",
    "        db = grads[\"db\"]\n",
    "        \n",
    "        w = w - learning_rate * dw\n",
    "        b = b - learning_rate * db\n",
    "        \n",
    "        # 记录代价\n",
    "        if i % 100 == 0:\n",
    "            costs.append(cost)\n",
    "            \n",
    "        # 打印成本数据\n",
    "        if(print_cost) and (i % 100 == 0):\n",
    "            print(\"迭代次数：%i，代价：%f\" % (i,cost))\n",
    "            \n",
    "    params = {\n",
    "        \"w\": w,\n",
    "        \"b\": b\n",
    "    }\n",
    "    \n",
    "    return (params,costs)\n",
    "    \n",
    "# 测试optimize\n",
    "print(\"===============测试optmize==============\")\n",
    "w = np.array([[1],[2]])\n",
    "b = 2\n",
    "X = np.array([[1,2],[3,4]])\n",
    "Y = np.array([[1,0]])\n",
    "params,costs = optimize(w,b,X,Y,num_iter=100,learning_rate=0.009,print_cost=False)\n",
    "print(\"w = \"+str(params[\"w\"]))\n",
    "print(\"b = \"+str(params[\"b\"]))"
   ]
  },
  {
   "cell_type": "markdown",
   "metadata": {},
   "source": [
    "# 预测函数"
   ]
  },
  {
   "cell_type": "markdown",
   "metadata": {},
   "source": [
    "参数已经学习完毕了，现在编写预测函数来预测标签"
   ]
  },
  {
   "cell_type": "code",
   "execution_count": 14,
   "metadata": {},
   "outputs": [
    {
     "name": "stdout",
     "output_type": "stream",
     "text": [
      "==============测试predict===============\n",
      "predctions = [[1. 1.]]\n"
     ]
    }
   ],
   "source": [
    "def predict(w,b,X):\n",
    "    \"\"\"\n",
    "    使用习得的模型来预测训练集的标签是0或是1\n",
    "    \n",
    "    参数：\n",
    "        w - 权重矩阵\n",
    "        b - 偏差\n",
    "        X - 训练集\n",
    "        \n",
    "    返回：\n",
    "        Y_pre - 预测值\n",
    "    \"\"\"\n",
    "    \n",
    "    m = X.shape[1] # 训练集数量\n",
    "    Y_pre = np.zeros((1,m))\n",
    "    \n",
    "    A = sigmoid(np.dot(w.T,X)+b)\n",
    "    # 概率大于0.5，预测值为1，反之为0\n",
    "    for i in range(A.shape[1]):\n",
    "        Y_pre[0,i] = 1 if A[0,i] > 0.5 else 0\n",
    "        \n",
    "    assert(Y_pre.shape == (1,m))\n",
    "    \n",
    "    return Y_pre\n",
    "\n",
    "# 测试predict\n",
    "print(\"==============测试predict===============\")\n",
    "w = np.array([[1],[2]])\n",
    "b = 2\n",
    "X = np.array([[1,2],[3,4]])\n",
    "Y = np.array([[1,0]])\n",
    "print(\"predctions = \"+str(predict(w,b,X)))"
   ]
  },
  {
   "cell_type": "markdown",
   "metadata": {},
   "source": [
    "# 在训练集&测试集上应用模型"
   ]
  },
  {
   "cell_type": "code",
   "execution_count": 17,
   "metadata": {},
   "outputs": [
    {
     "name": "stdout",
     "output_type": "stream",
     "text": [
      "=================测试model===============\n",
      "迭代次数：0，代价：0.693147\n",
      "迭代次数：100，代价：0.584508\n",
      "迭代次数：200，代价：0.466949\n",
      "迭代次数：300，代价：0.376007\n",
      "迭代次数：400，代价：0.331463\n",
      "迭代次数：500，代价：0.303273\n",
      "迭代次数：600，代价：0.279880\n",
      "迭代次数：700，代价：0.260042\n",
      "迭代次数：800，代价：0.242941\n",
      "迭代次数：900，代价：0.228004\n",
      "迭代次数：1000，代价：0.214820\n",
      "迭代次数：1100，代价：0.203078\n",
      "迭代次数：1200，代价：0.192544\n",
      "迭代次数：1300，代价：0.183033\n",
      "迭代次数：1400，代价：0.174399\n",
      "迭代次数：1500，代价：0.166521\n",
      "迭代次数：1600，代价：0.159305\n",
      "迭代次数：1700，代价：0.152667\n",
      "迭代次数：1800，代价：0.146542\n",
      "迭代次数：1900，代价：0.140872\n",
      "迭代次数：2000，代价：0.135608\n",
      "训练集上得准确率： 99.04306220095694 %\n",
      "测试集上得准确率： 70.0 %\n"
     ]
    }
   ],
   "source": [
    "def model(X_train,Y_train,X_test,Y_test,num_iter=2000,learning_rate = 0.5,print_cost=False):\n",
    "    \"\"\"\n",
    "    应用之前实现的预测函数在训练集和测试集上预测标签\n",
    "    \n",
    "    参数：\n",
    "        X_train - 训练集\n",
    "        Y_train - 训练集标签\n",
    "        X_test - 测试集\n",
    "        Y_test - 测试集标签\n",
    "        num_iter - 迭代次数\n",
    "        learning_rate - 学习率\n",
    "        print_cost - 设置true则每迭代100次打印一次代价\n",
    "        \n",
    "    返回：\n",
    "        d - \n",
    "    \"\"\"\n",
    "    \n",
    "    # 1.初始化参数\n",
    "    w,b = ini_param_with_zeros(X_train.shape[0])\n",
    "    \n",
    "    # 2.优化参数（多次前向&后向传播）\n",
    "    params,costs = optimize(w,b,X_train,Y_train,num_iter,learning_rate,print_cost)\n",
    "    \n",
    "    # 3.习得参数\n",
    "    w,b = params[\"w\"],params[\"b\"]\n",
    "    \n",
    "    # 4.预测训练集/测试集\n",
    "    Y_pre_train = predict(w,b,X_train)\n",
    "    Y_pre_test = predict(w,b,X_test)\n",
    "\n",
    "    # 打印训练得准确性\n",
    "    print(\"训练集上得准确率：\",format(100 - np.mean(np.abs(Y_pre_train-Y_train)) * 100),\"%\")\n",
    "    print(\"测试集上得准确率：\",format(100 - np.mean(np.abs(Y_pre_test-Y_test)) * 100),\"%\")\n",
    "    \n",
    "    d = {\n",
    "        \"costs\": costs,\n",
    "        \"Y_pre_test\": Y_pre_test,\n",
    "        \"Y_pre_train\": Y_pre_train,\n",
    "        \"w\": w,\n",
    "        \"b\": b,\n",
    "        \"learning_rate\": learning_rate,\n",
    "        \"num_iter\": num_iter\n",
    "    }\n",
    "    \n",
    "    return d\n",
    "    \n",
    "# 测试model\n",
    "print(\"=================测试model===============\")\n",
    "d = model(train_set_x,train_set_y_orig,test_set_x,test_set_y_orig,num_iter=2100,learning_rate=0.005,print_cost=True)"
   ]
  },
  {
   "cell_type": "markdown",
   "metadata": {},
   "source": [
    "# 绘制学习曲线"
   ]
  },
  {
   "cell_type": "code",
   "execution_count": 24,
   "metadata": {},
   "outputs": [
    {
     "data": {
      "image/png": "[encoded data removed]",
      "text/plain": [
       "<Figure size 432x288 with 1 Axes>"
      ]
     },
     "metadata": {
      "needs_background": "light"
     },
     "output_type": "display_data"
    }
   ],
   "source": [
    "costs = np.squeeze(d['costs'])\n",
    "plt.plot(costs)\n",
    "plt.ylabel('cost')\n",
    "plt.xlabel('iterations(per hundreds)')\n",
    "plt.title(\"learning_rate = \"+str(d['learning_rate']))\n",
    "plt.show()"
   ]
  },
  {
   "cell_type": "markdown",
   "metadata": {},
   "source": [
    "# 使用不同的学习率"
   ]
  },
  {
   "cell_type": "code",
   "execution_count": 29,
   "metadata": {},
   "outputs": [
    {
     "name": "stdout",
     "output_type": "stream",
     "text": [
      "laearning rate is: 0.01\n",
      "训练集上得准确率： 99.52153110047847 %\n",
      "测试集上得准确率： 70.0 %\n",
      "\n",
      "------------------------------\n",
      "\n",
      "laearning rate is: 0.001\n",
      "训练集上得准确率： 91.38755980861244 %\n",
      "测试集上得准确率： 68.0 %\n",
      "\n",
      "------------------------------\n",
      "\n",
      "laearning rate is: 0.0001\n",
      "训练集上得准确率： 71.29186602870814 %\n",
      "测试集上得准确率： 40.0 %\n",
      "\n",
      "------------------------------\n",
      "\n"
     ]
    },
    {
     "data": {
      "image/png": "[encoded data removed]",
      "text/plain": [
       "<Figure size 432x288 with 1 Axes>"
      ]
     },
     "metadata": {
      "needs_background": "light"
     },
     "output_type": "display_data"
    }
   ],
   "source": [
    "learning_rates = [0.01,0.001,0.0001]\n",
    "models = {}\n",
    "for i in learning_rates:\n",
    "    print(\"laearning rate is: \"+str(i))\n",
    "    models[str(i)] = model(train_set_x,train_set_y_orig,test_set_x,test_set_y_orig,num_iter=2000,learning_rate=i,print_cost=False)\n",
    "    print('\\n'+\"------------------------------\"+'\\n')\n",
    "    \n",
    "for i in learning_rates:\n",
    "    plt.plot(np.squeeze(models[str(i)][\"costs\"]),label = str(models[str(i)][\"learning_rate\"]))\n",
    "    \n",
    "plt.ylabel('cost')\n",
    "plt.xlabel('iterations')\n",
    "\n",
    "legend = plt.legend(loc='upper center',shadow = True)\n",
    "frame = legend.get_frame()\n",
    "frame.set_facecolor('0.90')\n",
    "plt.show()"
   ]
  }
 ],
 "metadata": {
  "kernelspec": {
   "display_name": "Python 3",
   "language": "python",
   "name": "python3"
  },
  "language_info": {
   "codemirror_mode": {
    "name": "ipython",
    "version": 3
   },
   "file_extension": ".py",
   "mimetype": "text/x-python",
   "name": "python",
   "nbconvert_exporter": "python",
   "pygments_lexer": "ipython3",
   "version": "3.7.3"
  },
  "toc": {
   "base_numbering": 1,
   "nav_menu": {},
   "number_sections": true,
   "sideBar": true,
   "skip_h1_title": false,
   "title_cell": "Table of Contents",
   "title_sidebar": "Contents",
   "toc_cell": false,
   "toc_position": {},
   "toc_section_display": true,
   "toc_window_display": false
  }
 },
 "nbformat": 4,
 "nbformat_minor": 2
}
